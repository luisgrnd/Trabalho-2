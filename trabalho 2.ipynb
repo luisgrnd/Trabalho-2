{
 "cells": [
  {
   "cell_type": "markdown",
   "metadata": {},
   "source": [
    "# Trabalho 2\n",
    "\n",
    "### Grupo: Luis Felipe Granado, Thiago Cosme, Pedro Fellipe.\n"
   ]
  },
  {
   "cell_type": "markdown",
   "metadata": {},
   "source": [
    "\n",
    "### Questão 1:\n",
    "\n",
    "Para solucionar o sistema por decomposição LU, primeiro temos que encontrar as matrizes triangulares equivalentes L (com '1's na diagonal principal e zeros acima dela) e U (com zeros abaixo da diagonal principal) tais que o produto matricial LU seja igual a matriz original.\n"
   ]
  },
  {
   "cell_type": "code",
   "execution_count": 44,
   "metadata": {},
   "outputs": [
    {
     "name": "stdout",
     "output_type": "stream",
     "text": [
      "\n",
      " Matriz L: \n",
      "\n",
      "[1, 0, 0, 0]\n",
      "[0.5, 1, 0, 0]\n",
      "[0.7, 0.30000000000000027, 1, 0]\n",
      "[-1.0, 2.0, 0.6451612903225806, 1]\n",
      "\n",
      " Matriz U: \n",
      "\n",
      "[2.0, 3.0, 1.0, 5.0]\n",
      "[0, 2.0, 0.5, 5.0]\n",
      "[0, 0, 4.65, 6.999999999999998]\n",
      "[0, 0, 0, 18.483870967741936]\n",
      "\n",
      " Apenas para checagem, testamos o produto LU: \n",
      "\n",
      "[[ 2.   3.   1.   5. ]\n",
      " [ 1.   3.5  1.   7.5]\n",
      " [ 1.4  2.7  5.5 12. ]\n",
      " [-2.   1.   3.  28. ]]\n"
     ]
    }
   ],
   "source": [
    "A = [[2.0,3.0,1.0,5.0], \n",
    "     [1.0,3.5,1.0,7.5], \n",
    "     [1.4,2.7,5.5,12.0],\n",
    "     [-2.0,1.0,3.0,28.0]] \n",
    "\n",
    "n = len(A)     \n",
    "U=[]  \n",
    "L=[]  \n",
    "\n",
    "for i in range(n):\n",
    "    U.append([0]*n) # Criamos uma lista do mesmo tamanho de A com apenas zeros para preencher com a matriz Upper\n",
    "    L.append([0]*n) # e fazemos o mesmo para a matriz Lower\n",
    "    \n",
    "for m in range(n):  # Aqui execultamos o algoritmo que origina as matrizes L e U\n",
    "    L[m][m] = 1\n",
    "    soma = 0   \n",
    "    \n",
    "    for k in range(n):\n",
    "        soma +=  L[m][k]*U[k][m]\n",
    "    U[m][m] = A[m][m]-soma   \n",
    "        \n",
    "    for j in range(m,n):\n",
    "        soma = 0\n",
    "        for k in range(m):\n",
    "            soma +=  L[m][k]*U[k][j]\n",
    "        U[m][j] = A[m][j]-soma\n",
    "        \n",
    "    for i in range(m+1,n):\n",
    "        soma = 0\n",
    "        for k in range(m+1):\n",
    "            soma +=  L[i][k]*U[k][m]\n",
    "        L[i][m] = (A[i][m]-soma)/U[m][m]\n",
    "\n",
    "        \n",
    "print(\"\\n Matriz L: \\n\")\n",
    "for i in range(4):\n",
    "    print (L[i])\n",
    "    \n",
    "print(\"\\n Matriz U: \\n\")\n",
    "for i in range(4):\n",
    "    print (U[i])\n",
    "\n",
    "\n",
    "print(\"\\n Apenas para checagem, testamos o produto LU: \\n\")\n",
    "\n",
    "import numpy as np\n",
    "print(np.dot(L,U))\n",
    "\n"
   ]
  },
  {
   "cell_type": "markdown",
   "metadata": {},
   "source": [
    "Assim, sabemos que A = LU.\n",
    "Agora resolvemos o sistema Ax = b como:\n",
    "    $$LUx = b$$\n",
    "chamando Ux de y, temos que resolver dois sistemas triangulares, primeiro: \n",
    "$$Ly = b$$\n",
    "depois:   \n",
    "$$Ux = y$$\n",
    "\n",
    "Abaixo, o programa possui duas funções que solucionam os sistemas triangulares com as matrizes L e U."
   ]
  },
  {
   "cell_type": "code",
   "execution_count": 70,
   "metadata": {},
   "outputs": [
    {
     "name": "stdout",
     "output_type": "stream",
     "text": [
      "Vetor solução:  [1.0, 1.0, 1.0000000000000004, 1.0]\n"
     ]
    }
   ],
   "source": [
    "def vetor_y(L,b):     # Substituição Ly=b\n",
    "    n = len(L)-1       #os indices correm de 0 ate n-1\n",
    "    y0 = b[0]/L[0][0]\n",
    "\n",
    "    y = [0]*len(L)     # cria um vetor de zeros    \n",
    "    y[0] = y0         # atribui y0 na primeira posicao de y\n",
    "    \n",
    "    for i in range(1,n+1,1): # linhas de L a partir da segunda à ultima (incluindo)\n",
    "        soma = 0\n",
    "        for j in range(0,i,1): # colunas de L  de 0 à diagonal principal (excluindo)\n",
    "            soma += y[j]*L[i][j]\n",
    "        y[i] = (b[i] - soma)\n",
    "        \n",
    "    return y\n",
    "                \n",
    "    \n",
    "def vetor_x(U,y):      # Substituição Ux=y\n",
    "    n = len(U)-1       #os indices correm de 0 ate n-1\n",
    "    xn = y[n]/U[n][n]\n",
    "\n",
    "    x = [0]*len(U)     # cria um vetor de zeros    \n",
    "    x[-1] = xn         # atribui xn na ultima posicao de x\n",
    "    \n",
    "    for i in range(n-1,-1,-1): #linhas de U de trás para frente a partir da penultima\n",
    "        soma = 0\n",
    "        for j in range(i+1,n+1,1):  #colunas de U a partir da diagonal principal (excluindo)\n",
    "            soma +=  U[i][j]*x[j]\n",
    "        x[i] = (y[i] - soma)/U[i][i]\n",
    "        \n",
    "    return x\n",
    "\n",
    "\n",
    "b = [11., 13., 21.6, 30.]\n",
    "\n",
    "y = vetor_y(L,b)\n",
    "x = vetor_x(U,y)\n",
    "\n",
    "print(\"Vetor solução: \",x)\n"
   ]
  },
  {
   "cell_type": "markdown",
   "metadata": {},
   "source": []
  },
  {
   "cell_type": "markdown",
   "metadata": {},
   "source": [
    "### Questão 2 por Gauss-Seidel\n",
    "\n",
    "No método de Gauss-Seidel criamos um processo iterativo onde isolamos cada termo $x_i$ (o elemento da linha i no vetor x das incógnitas) em função dos elementos restantes.\n",
    "Em seguida atribuimos um valor inicial ao vetor da incógnitas ([0,0,0,0,0] no nosso caso) e repetimos a iteração várias vezes para todos os $x_i, i = 0, ..., 4$. Se o sistema for convergente $\\bigg(\\cfrac{1}{|{A_{ii}|}} < 1 ~~ \\forall i = 0, ..., 4\\bigg)$ a cada iteração os valores do vetor das incógnitas se aproximam da solução exata. \n",
    "\n",
    "Criamos uma função para cada valor de $x_i$ já isolado, e no loop atribuímos a cada elemento do vetor x a função $x_i$ usando os demais como argumento, assim a cada iteração o valor é atualizado.\n",
    "\n",
    "\n",
    "No código, definimos o erro como o maior valor em módulo no vetor da diferença entre o vetor da iteração atual e da anterior  e dividimos pela norma infinita do vetor atual. Pramos o programa quando esse erro fosse menor que 0,00001"
   ]
  },
  {
   "cell_type": "code",
   "execution_count": 63,
   "metadata": {},
   "outputs": [
    {
     "name": "stdout",
     "output_type": "stream",
     "text": [
      "  \t x1 =  3.000001531739661 \n",
      "\t x2 =  2.0000036469305336 \n",
      "\t x3 =  -0.9999960282850627 \n",
      "\t x4 =  0.9999998458572021 \n",
      "\t x5 =  -2.0000025581207788 \n",
      "\n",
      "\tErro = 4.591921707271915e-06\n"
     ]
    }
   ],
   "source": [
    "\n",
    "import  numpy  as np\n",
    "\n",
    "x = np.array([0.,0.,0.,0.,0.])\n",
    "x_ant = np.array([0.,0.,0.,0.,0.])\n",
    "eps = 0.00001\n",
    "\n",
    "A = np.array([[6.1,0.32,1.3,2.1,0.11],\n",
    "                      [0.82,8.81,1.01,3.,3.12],\n",
    "                      [0.5,1.78,15.2,4.2,8.1],\n",
    "                      [4.2,5.3,1.8,20.9,7.51],\n",
    "                      [0.2,9.1,4.68,4.3,20.1]])\n",
    "b = np.array([19.52, 15.83, -22.14, 27.28, -21.78])\n",
    "\n",
    "x1 = lambda x2, x3, x4, x5: (b[0] - A[0,1]*x2 - A[0,2]*x3 - A[0,3]*x4 - A[0,4]*x5 )/A[0,0]\n",
    "x2 = lambda x1, x3, x4, x5: (b[1] - A[1,0]*x1 - A[1,2]*x3 - A[1,3]*x4 - A[1,4]*x5)/A[1,1]\n",
    "x3 = lambda x1, x2, x4, x5: (b[2] - A[2,0]*x1 - A[2,1]*x2 - A[2,3]*x4 - A[2,4]*x5)/A[2,2]\n",
    "x4 = lambda x1, x2, x3, x5: (b[3] - A[3,0]*x1 - A[3,1]*x2 - A[3,2]*x3 - A[3,4]*x5)/A[3,3]\n",
    "x5 = lambda x1, x2, x3, x4: (b[4] - A[4,0]*x1 - A[4,1]*x2 - A[4,2]*x3 - A[4,3]*x4)/A[4,4]\n",
    "err = 10.\n",
    "\n",
    "while err>eps:\n",
    "    \n",
    "    x[0] = x1(x[1], x[2],x[3], x[4])\n",
    "    x[1] = x2(x[0], x[2], x[3], x[4])\n",
    "    x[2] = x3(x[0], x[1], x[3], x[4])\n",
    "    x[3] = x4(x[0], x[1], x[2], x[4])\n",
    "    x[4] = x5(x[0], x[1], x[2], x[3])\n",
    "                                              \n",
    "\n",
    "    err = np.amax(np.absolute(x-x_ant))/np.amax(np.absolute(x))   \n",
    "    x_ant = np.copy(x)\n",
    "    \n",
    "print (\"  \\t x1 = \",x[0],\n",
    "       \"\\n\\t x2 = \",x[1],\n",
    "       \"\\n\\t x3 = \",x[2],\n",
    "       \"\\n\\t x4 = \",x[3],\n",
    "       \"\\n\\t x5 = \",x[4], \n",
    "       \"\\n\\n\\tErro =\",err)"
   ]
  },
  {
   "cell_type": "markdown",
   "metadata": {},
   "source": [
    "### Questão 2 por eliminação de gauss"
   ]
  },
  {
   "cell_type": "code",
   "execution_count": 64,
   "metadata": {},
   "outputs": [
    {
     "name": "stdout",
     "output_type": "stream",
     "text": [
      "x 0 =  [3.]\n",
      "x 1 =  [2.]\n",
      "x 2 =  [-1.]\n",
      "x 3 =  [1.]\n",
      "x 4 =  [-2.]\n"
     ]
    }
   ],
   "source": [
    "import numpy as np\n",
    "\n",
    "M = np.array([[6.1,0.32,1.3,2.1,0.11,19.52],\n",
    "                      [0.82,8.81,1.01,3.,3.12,15.83],\n",
    "                      [0.5,1.78,15.2,4.2,8.1,-22.14],\n",
    "                      [4.2,5.3,1.8,20.9,7.51,27.28],\n",
    "                      [0.2,9.1,4.68,4.3,20.1,-21.78]])\n",
    "\n",
    "# Pega o numero de linhas de M\n",
    "n = len(M)\n",
    "\n",
    "for j in range(n-1):\n",
    "    for i in range(j,n-1):\n",
    "        m = M[i+1,j]/M[j,j]\n",
    "        M[i+1] = M[i+1]-m*M[j]\n",
    "\n",
    "        \n",
    "b = M[0:n+1,n:n+1]   # matriz dos termos independentes     \n",
    "A = M[0:n+1,0:n]  # matriz dos coeficientes\n",
    "\n",
    "\n",
    "#funcao para resolver um sistema triangular superior\n",
    "def solve(U, y):\n",
    "    n = len(U)-1       #os indices correm de 0 ate n-1\n",
    "    xn = y[n]/U[n][n]\n",
    "\n",
    "    x = [0]*len(U)     # cria um vetor de zeros    \n",
    "    x[-1] = xn         # atribui xn na ultima posicao de x\n",
    "    \n",
    "    for i in range(n-1,-1,-1):\n",
    "        soma = 0\n",
    "        for j in range(i+1,n+1):\n",
    "            soma +=  U[i][j]*x[j]\n",
    "        xi = (y[i]-soma)/U[i][i]\n",
    "        x[i] = xi\n",
    "    return x\n",
    "resposta = solve(A,b)\n",
    "for i in range (5):\n",
    "    print (\"x\",i, \"= \", resposta[i])\n",
    "\n"
   ]
  },
  {
   "cell_type": "markdown",
   "metadata": {},
   "source": [
    "Comparando os dois métodos acima o de Gauss-Seidel nos dá um a solução aproximada e, aparentemente, é mais custoso computacionalmente graças às diversas iterações, o método de eliminação de Gauss parece mais leve, a solução é exata e não precisa de aproximação incial."
   ]
  },
  {
   "cell_type": "markdown",
   "metadata": {},
   "source": [
    "### Questão 3\n",
    "O problema mostra um arranjo de 4 molas em série sendo comprimidas por uma força F de 2000Kg, o mesmo quer saber a que distancia x, na vertical, que uma mola fica distante da outra.\n",
    "Como as molas estão em série, a resolução do sistema se dá por iteração, onde a mola 4 fica em função da força F, a mola 3 fica em função da mola 4 e assim sucessivamente.\n",
    "\n",
    "Para resolver esse sistema computacionalmente, usamos o método de iteração de Jacobi-Richardson, onde a variável que pretende ser encontrada é isolada e resolvida em função das outras variáveis. Numa equação $a_{11}x_1 + a_{12}x_2 +...+ a_{1n}x_n = b_1$, por exemplo, isolamos o $x_1$, ficando $x_1=(1/a_{11})*(b_1-a_{12}x_2-...-a_{1n}x_n)$. Essa iteração é realizada para cada $x_{i+1}$ de cada equação usando o valor de $x_i$ encontrado na iteração anterior. \n",
    "\n",
    "Começamos dando um valor inicial de 0 metros de distância para cada mola, a fim de que a cada iteração essa distância  se aproxime da distância exata. O cálculo do erro foi realizado de maneira idêntica à questão 2, com uma tolerancia de 0.000001. "
   ]
  },
  {
   "cell_type": "code",
   "execution_count": 65,
   "metadata": {},
   "outputs": [
    {
     "name": "stdout",
     "output_type": "stream",
     "text": [
      "x1 = 13.3332, x2 = 53.3326, x3 = 79.9990, x4 = 88.8878\n"
     ]
    }
   ],
   "source": [
    "import numpy as np\n",
    "x = np.array([0.,0.,0.,0.])\n",
    "x_ant = np.array([0.,0.,0.,0.])\n",
    "k = [150.,50.,75.,225.,2000.]\n",
    "c = 0\n",
    "erro = 10\n",
    "x1 = lambda x2, x3, x4: (1/200)*(k[1]*x2 + 0.*x3 + 0.*x4)\n",
    "x2 = lambda x1, x3, x4: (-1/125)*(-k[1]*x1 -k[2]*x3 + 0.*x4)\n",
    "x3 = lambda x1, x2, x4: (-1/300)*(0.*x1 -k[2]*x2 -k[3]*x4)\n",
    "x4 = lambda x1, x2, x3: (1/225)*(k[4]+ 0.*x1 + 0.*x2 + k[3]*x3)\n",
    "\n",
    "while erro>0.000001:\n",
    "     x = [x1(x[1],x[2],x[3]), x2(x[0],x[2],x[3]), x3(x[0],x[1],x[3]), x4(x[0],x[1],x[2])]\n",
    "     c = c+1     \n",
    "     erro=np.amax(np.absolute(x-x_ant))/np.amax(np.absolute((x)))\n",
    "     x_ant=np.copy(x)\n",
    "print (\"x1 = %.4f,\"%x[0],\"x2 = %.4f,\"%x[1],\"x3 = %.4f,\"%x[2], \"x4 = %.4f\"%x[3], )"
   ]
  },
  {
   "cell_type": "markdown",
   "metadata": {},
   "source": [
    "### Questão 4\n",
    "A solução do problema envolvia analisar o empuxo causado pelo volume submerso do tronco de cone e igualá-lo ao peso do cone inteiro. \n",
    "\n",
    "No código criamos a função empuxo - que na verdade é a diferença entre o empuxo do volume submerso e o peso do tronco. Logo, o valor de x que a zera, é o valor da altura procurada. A função V (de volume) auxilia a encontrar o volume de um tronco de cone com raios R, r, e altura h.\n",
    "\n",
    "E para a solução simplesmente utilizamos o método da bissecção, como a altura pedida só pode estar entre a altura da peça e zero, escolhemos o intervalo entre 0.1 e 1.1 para a procura da raiz.  "
   ]
  },
  {
   "cell_type": "code",
   "execution_count": 73,
   "metadata": {},
   "outputs": [
    {
     "name": "stdout",
     "output_type": "stream",
     "text": [
      "h = 0.875777455046773\n"
     ]
    }
   ],
   "source": [
    "import math\n",
    "\n",
    "a = 0.0                                                   #intervalo para a altura\n",
    "b = 1.0\n",
    "erro = 10.\n",
    "\n",
    "def V(R,r,h):\n",
    "    return (math.pi*h/3)*(R**2 + r**2 + R*r)\n",
    "\n",
    "def Empuxo(x):\n",
    "    return 200*V(1,0.5,1)-1000*V(1,(0.5+x-0.5*x),(1-x))   #Função que compara o peso do tronco com o empuxo do volume submerso\n",
    "\n",
    "            \n",
    "while erro > 0.000001:\n",
    "    x = (a+b)/2\n",
    "    \n",
    "    if Empuxo(a)*Empuxo(x) <0:\n",
    "        b=x\n",
    "    else:\n",
    "        a=x\n",
    "        \n",
    "    erro = abs(Empuxo(x))\n",
    "            \n",
    "print(\"h =\", x)            \n"
   ]
  },
  {
   "cell_type": "markdown",
   "metadata": {},
   "source": [
    "### Questão 5\n",
    "\n",
    "No problema, é necessário encontrar uma raiz de uma função de terceiro grau um tanto quanto complicada. Para implementar o método da bissecção fez-se necessário analisar o gráfico da função e localizar um intervalo aproximado para raiz positiva.  \n",
    "Abaixo utilizamos a biblioteca numpy e a função pyplot para determinar um intervalo razoável."
   ]
  },
  {
   "cell_type": "code",
   "execution_count": 67,
   "metadata": {},
   "outputs": [
    {
     "data": {
      "image/png": "[encoded data removed]",
      "text/plain": [
       "<matplotlib.figure.Figure at 0x13405d894e0>"
      ]
     },
     "metadata": {},
     "output_type": "display_data"
    }
   ],
   "source": [
    "% matplotlib inline\n",
    "import numpy as np\n",
    "import matplotlib.pyplot as plt\n",
    "\n",
    "tf = np.arange(-1500,7000, 0.02)\n",
    "v = lambda tf: 2*8.314*(1.702*(tf-300)+((9.081*10**-3)/2)*(tf**2-300**2)+((-2.164*10**-6)/3)*(tf**3-300**3))-20000\n",
    
    "plt.plot(tf, v(tf),\"b-\")\n",
    "plt.grid()\n",
    "plt.show()"
   ]
  },
  {
   "cell_type": "markdown",
   "metadata": {},
   "source": [
    "A partir da análise desse gráfico, pode-se perceber que a existência de 3 raízes, porém uma negativa que não convém quando se trata de temperatura em Kelvin, uma raiz entre 0 e mil, e outra acima de 6 mil que também não é conveniente, comparando com a temperatura inicial. Logo, definimos o intervalo entre 0 e mil para o método da bissecção."
   ]
  },
  {
   "cell_type": "code",
   "execution_count": 72,
   "metadata": {},
   "outputs": [
    {
     "name": "stdout",
     "output_type": "stream",
     "text": [
      "Temperatura final = 535.4783972143196 K\n"
     ]
    }
   ],
   "source": [
    "import math\n",
    "\n",
    "a = 0                                              #intervalo para a temperatura\n",
    "b = 1000\n",
    "erro = 10.\n",
    "\n",
    "def Q(tf):\n",
    "    return 2*8.314*(1.702*(tf-300)+((9.081*10**-3)/2)*(tf**2-300**2)+((-2.164*10**-6)/3)*(tf**3-300**3))-20000\n",
    "\n",
    "while erro > 0.000001:\n",
    "        x = (a+b)/2\n",
    "        \n",
    "        if Q(x)*Q(a) < 0:\n",
    "             b=x\n",
    "        else:\n",
    "            a=x\n",
    "            \n",
    "        erro = abs(Q(x))\n",
    "print(\"Temperatura final =\",x,\"K\")\n",
    "            "
   ]
  },
  {
   "cell_type": "code",
   "execution_count": null,
   "metadata": {},
   "outputs": [],
   "source": []
  }
 ],
 "metadata": {
  "kernelspec": {
   "display_name": "Python 3",
   "language": "python",
   "name": "python3"
  },
  "language_info": {
   "codemirror_mode": {
    "name": "ipython",
    "version": 3
   },
   "file_extension": ".py",
   "mimetype": "text/x-python",
   "name": "python",
   "nbconvert_exporter": "python",
   "pygments_lexer": "ipython3",
   "version": "3.6.4"
  }
 },
 "nbformat": 4,
 "nbformat_minor": 2
}
